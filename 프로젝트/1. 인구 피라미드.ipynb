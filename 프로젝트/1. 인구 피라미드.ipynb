{
 "cells": [
  {
   "cell_type": "markdown",
   "metadata": {},
   "source": [
    "# 1. 인구 피라미드"
   ]
  },
  {
   "cell_type": "markdown",
   "metadata": {},
   "source": [
    "## 남자 데이터 정의"
   ]
  },
  {
   "cell_type": "code",
   "execution_count": 1,
   "metadata": {},
   "outputs": [
    {
     "data": {
      "text/html": [
       "<div>\n",
       "<style scoped>\n",
       "    .dataframe tbody tr th:only-of-type {\n",
       "        vertical-align: middle;\n",
       "    }\n",
       "\n",
       "    .dataframe tbody tr th {\n",
       "        vertical-align: top;\n",
       "    }\n",
       "\n",
       "    .dataframe thead th {\n",
       "        text-align: right;\n",
       "    }\n",
       "</style>\n",
       "<table border=\"1\" class=\"dataframe\">\n",
       "  <thead>\n",
       "    <tr style=\"text-align: right;\">\n",
       "      <th></th>\n",
       "      <th>0~4세</th>\n",
       "      <th>5~9세</th>\n",
       "      <th>10~14세</th>\n",
       "      <th>15~19세</th>\n",
       "      <th>20~24세</th>\n",
       "      <th>25~29세</th>\n",
       "      <th>30~34세</th>\n",
       "      <th>35~39세</th>\n",
       "      <th>40~44세</th>\n",
       "      <th>45~49세</th>\n",
       "      <th>...</th>\n",
       "      <th>55~59세</th>\n",
       "      <th>60~64세</th>\n",
       "      <th>65~69세</th>\n",
       "      <th>70~74세</th>\n",
       "      <th>75~79세</th>\n",
       "      <th>80~84세</th>\n",
       "      <th>85~89세</th>\n",
       "      <th>90~94세</th>\n",
       "      <th>95~99세</th>\n",
       "      <th>100세 이상</th>\n",
       "    </tr>\n",
       "    <tr>\n",
       "      <th>행정기관</th>\n",
       "      <th></th>\n",
       "      <th></th>\n",
       "      <th></th>\n",
       "      <th></th>\n",
       "      <th></th>\n",
       "      <th></th>\n",
       "      <th></th>\n",
       "      <th></th>\n",
       "      <th></th>\n",
       "      <th></th>\n",
       "      <th></th>\n",
       "      <th></th>\n",
       "      <th></th>\n",
       "      <th></th>\n",
       "      <th></th>\n",
       "      <th></th>\n",
       "      <th></th>\n",
       "      <th></th>\n",
       "      <th></th>\n",
       "      <th></th>\n",
       "      <th></th>\n",
       "    </tr>\n",
       "  </thead>\n",
       "  <tbody>\n",
       "    <tr>\n",
       "      <th>전국</th>\n",
       "      <td>789,986</td>\n",
       "      <td>1,145,510</td>\n",
       "      <td>1,216,201</td>\n",
       "      <td>1,219,158</td>\n",
       "      <td>1,631,437</td>\n",
       "      <td>1,870,816</td>\n",
       "      <td>1,669,341</td>\n",
       "      <td>1,806,126</td>\n",
       "      <td>2,032,473</td>\n",
       "      <td>2,117,697</td>\n",
       "      <td>...</td>\n",
       "      <td>2,080,403</td>\n",
       "      <td>2,045,637</td>\n",
       "      <td>1,454,972</td>\n",
       "      <td>984,385</td>\n",
       "      <td>696,727</td>\n",
       "      <td>455,382</td>\n",
       "      <td>194,329</td>\n",
       "      <td>49,145</td>\n",
       "      <td>8,997</td>\n",
       "      <td>1,768</td>\n",
       "    </tr>\n",
       "    <tr>\n",
       "      <th>서울특별시</th>\n",
       "      <td>126,868</td>\n",
       "      <td>174,375</td>\n",
       "      <td>189,188</td>\n",
       "      <td>199,603</td>\n",
       "      <td>287,333</td>\n",
       "      <td>399,477</td>\n",
       "      <td>366,039</td>\n",
       "      <td>353,376</td>\n",
       "      <td>362,420</td>\n",
       "      <td>372,334</td>\n",
       "      <td>...</td>\n",
       "      <td>347,988</td>\n",
       "      <td>344,507</td>\n",
       "      <td>262,495</td>\n",
       "      <td>182,455</td>\n",
       "      <td>134,264</td>\n",
       "      <td>82,791</td>\n",
       "      <td>32,895</td>\n",
       "      <td>8,750</td>\n",
       "      <td>1,773</td>\n",
       "      <td>499</td>\n",
       "    </tr>\n",
       "    <tr>\n",
       "      <th>부산광역시</th>\n",
       "      <td>45,370</td>\n",
       "      <td>67,873</td>\n",
       "      <td>68,374</td>\n",
       "      <td>68,894</td>\n",
       "      <td>100,538</td>\n",
       "      <td>115,920</td>\n",
       "      <td>100,155</td>\n",
       "      <td>108,411</td>\n",
       "      <td>126,407</td>\n",
       "      <td>127,051</td>\n",
       "      <td>...</td>\n",
       "      <td>131,796</td>\n",
       "      <td>144,557</td>\n",
       "      <td>114,298</td>\n",
       "      <td>79,913</td>\n",
       "      <td>54,463</td>\n",
       "      <td>32,697</td>\n",
       "      <td>12,013</td>\n",
       "      <td>2,799</td>\n",
       "      <td>456</td>\n",
       "      <td>91</td>\n",
       "    </tr>\n",
       "  </tbody>\n",
       "</table>\n",
       "<p>3 rows × 21 columns</p>\n",
       "</div>"
      ],
      "text/plain": [
       "            0~4세       5~9세     10~14세     15~19세     20~24세     25~29세  \\\n",
       "행정기관                                                                      \n",
       "전국       789,986  1,145,510  1,216,201  1,219,158  1,631,437  1,870,816   \n",
       "서울특별시    126,868    174,375    189,188    199,603    287,333    399,477   \n",
       "부산광역시     45,370     67,873     68,374     68,894    100,538    115,920   \n",
       "\n",
       "            30~34세     35~39세     40~44세     45~49세  ...     55~59세  \\\n",
       "행정기관                                                 ...              \n",
       "전국       1,669,341  1,806,126  2,032,473  2,117,697  ...  2,080,403   \n",
       "서울특별시      366,039    353,376    362,420    372,334  ...    347,988   \n",
       "부산광역시      100,155    108,411    126,407    127,051  ...    131,796   \n",
       "\n",
       "            60~64세     65~69세   70~74세   75~79세   80~84세   85~89세  90~94세  \\\n",
       "행정기관                                                                        \n",
       "전국       2,045,637  1,454,972  984,385  696,727  455,382  194,329  49,145   \n",
       "서울특별시      344,507    262,495  182,455  134,264   82,791   32,895   8,750   \n",
       "부산광역시      144,557    114,298   79,913   54,463   32,697   12,013   2,799   \n",
       "\n",
       "        95~99세 100세 이상  \n",
       "행정기관                    \n",
       "전국       8,997   1,768  \n",
       "서울특별시    1,773     499  \n",
       "부산광역시      456      91  \n",
       "\n",
       "[3 rows x 21 columns]"
      ]
     },
     "execution_count": 1,
     "metadata": {},
     "output_type": "execute_result"
    }
   ],
   "source": [
    "import pandas as pd\n",
    "file_name = '202111_202111_연령별인구현황_월간.xlsx'\n",
    "df_m = pd.read_excel(file_name, skiprows = 3, index_col = '행정기관', usecols = 'B, E:Y') # usecols 원하는 데이터 범위 설정\n",
    "df_m.head(3)"
   ]
  },
  {
   "cell_type": "code",
   "execution_count": 2,
   "metadata": {},
   "outputs": [],
   "source": [
    "df_m.iloc[0] = df_m.iloc[0].str.replace(',', '').astype(int)"
   ]
  },
  {
   "cell_type": "code",
   "execution_count": 3,
   "metadata": {},
   "outputs": [
    {
     "data": {
      "text/plain": [
       "0~4세        789986\n",
       "5~9세       1145510\n",
       "10~14세     1216201\n",
       "15~19세     1219158\n",
       "20~24세     1631437\n",
       "25~29세     1870816\n",
       "30~34세     1669341\n",
       "35~39세     1806126\n",
       "40~44세     2032473\n",
       "45~49세     2117697\n",
       "50~54세     2283956\n",
       "55~59세     2080403\n",
       "60~64세     2045637\n",
       "65~69세     1454972\n",
       "70~74세      984385\n",
       "75~79세      696727\n",
       "80~84세      455382\n",
       "85~89세      194329\n",
       "90~94세       49145\n",
       "95~99세        8997\n",
       "100세 이상       1768\n",
       "Name: 전국  , dtype: object"
      ]
     },
     "execution_count": 3,
     "metadata": {},
     "output_type": "execute_result"
    }
   ],
   "source": [
    "df_m.iloc[0]"
   ]
  },
  {
   "cell_type": "markdown",
   "metadata": {},
   "source": [
    "## 여자 데이터 정의"
   ]
  },
  {
   "cell_type": "code",
   "execution_count": 4,
   "metadata": {},
   "outputs": [
    {
     "data": {
      "text/html": [
       "<div>\n",
       "<style scoped>\n",
       "    .dataframe tbody tr th:only-of-type {\n",
       "        vertical-align: middle;\n",
       "    }\n",
       "\n",
       "    .dataframe tbody tr th {\n",
       "        vertical-align: top;\n",
       "    }\n",
       "\n",
       "    .dataframe thead th {\n",
       "        text-align: right;\n",
       "    }\n",
       "</style>\n",
       "<table border=\"1\" class=\"dataframe\">\n",
       "  <thead>\n",
       "    <tr style=\"text-align: right;\">\n",
       "      <th></th>\n",
       "      <th>0~4세.1</th>\n",
       "      <th>5~9세.1</th>\n",
       "      <th>10~14세.1</th>\n",
       "      <th>15~19세.1</th>\n",
       "      <th>20~24세.1</th>\n",
       "      <th>25~29세.1</th>\n",
       "      <th>30~34세.1</th>\n",
       "      <th>35~39세.1</th>\n",
       "      <th>40~44세.1</th>\n",
       "      <th>45~49세.1</th>\n",
       "      <th>...</th>\n",
       "      <th>55~59세.1</th>\n",
       "      <th>60~64세.1</th>\n",
       "      <th>65~69세.1</th>\n",
       "      <th>70~74세.1</th>\n",
       "      <th>75~79세.1</th>\n",
       "      <th>80~84세.1</th>\n",
       "      <th>85~89세.1</th>\n",
       "      <th>90~94세.1</th>\n",
       "      <th>95~99세.1</th>\n",
       "      <th>100세 이상.1</th>\n",
       "    </tr>\n",
       "    <tr>\n",
       "      <th>행정기관</th>\n",
       "      <th></th>\n",
       "      <th></th>\n",
       "      <th></th>\n",
       "      <th></th>\n",
       "      <th></th>\n",
       "      <th></th>\n",
       "      <th></th>\n",
       "      <th></th>\n",
       "      <th></th>\n",
       "      <th></th>\n",
       "      <th></th>\n",
       "      <th></th>\n",
       "      <th></th>\n",
       "      <th></th>\n",
       "      <th></th>\n",
       "      <th></th>\n",
       "      <th></th>\n",
       "      <th></th>\n",
       "      <th></th>\n",
       "      <th></th>\n",
       "      <th></th>\n",
       "    </tr>\n",
       "  </thead>\n",
       "  <tbody>\n",
       "    <tr>\n",
       "      <th>전국</th>\n",
       "      <td>749,184</td>\n",
       "      <td>1,090,823</td>\n",
       "      <td>1,148,107</td>\n",
       "      <td>1,133,309</td>\n",
       "      <td>1,503,271</td>\n",
       "      <td>1,669,446</td>\n",
       "      <td>1,534,880</td>\n",
       "      <td>1,721,162</td>\n",
       "      <td>1,964,387</td>\n",
       "      <td>2,051,433</td>\n",
       "      <td>...</td>\n",
       "      <td>2,017,643</td>\n",
       "      <td>2,090,148</td>\n",
       "      <td>1,556,821</td>\n",
       "      <td>1,120,948</td>\n",
       "      <td>910,410</td>\n",
       "      <td>740,555</td>\n",
       "      <td>435,029</td>\n",
       "      <td>166,143</td>\n",
       "      <td>38,056</td>\n",
       "      <td>7,403</td>\n",
       "    </tr>\n",
       "    <tr>\n",
       "      <th>서울특별시</th>\n",
       "      <td>119,201</td>\n",
       "      <td>166,115</td>\n",
       "      <td>179,400</td>\n",
       "      <td>190,254</td>\n",
       "      <td>318,343</td>\n",
       "      <td>421,241</td>\n",
       "      <td>367,650</td>\n",
       "      <td>353,709</td>\n",
       "      <td>368,849</td>\n",
       "      <td>379,561</td>\n",
       "      <td>...</td>\n",
       "      <td>356,910</td>\n",
       "      <td>379,402</td>\n",
       "      <td>298,723</td>\n",
       "      <td>214,261</td>\n",
       "      <td>164,912</td>\n",
       "      <td>115,226</td>\n",
       "      <td>62,378</td>\n",
       "      <td>24,864</td>\n",
       "      <td>6,134</td>\n",
       "      <td>1,511</td>\n",
       "    </tr>\n",
       "    <tr>\n",
       "      <th>부산광역시</th>\n",
       "      <td>43,070</td>\n",
       "      <td>64,323</td>\n",
       "      <td>64,857</td>\n",
       "      <td>64,349</td>\n",
       "      <td>95,252</td>\n",
       "      <td>105,607</td>\n",
       "      <td>93,959</td>\n",
       "      <td>104,059</td>\n",
       "      <td>122,864</td>\n",
       "      <td>126,103</td>\n",
       "      <td>...</td>\n",
       "      <td>139,278</td>\n",
       "      <td>160,805</td>\n",
       "      <td>128,912</td>\n",
       "      <td>94,495</td>\n",
       "      <td>68,536</td>\n",
       "      <td>51,437</td>\n",
       "      <td>26,798</td>\n",
       "      <td>9,927</td>\n",
       "      <td>2,112</td>\n",
       "      <td>420</td>\n",
       "    </tr>\n",
       "  </tbody>\n",
       "</table>\n",
       "<p>3 rows × 21 columns</p>\n",
       "</div>"
      ],
      "text/plain": [
       "          0~4세.1     5~9세.1   10~14세.1   15~19세.1   20~24세.1   25~29세.1  \\\n",
       "행정기관                                                                      \n",
       "전국       749,184  1,090,823  1,148,107  1,133,309  1,503,271  1,669,446   \n",
       "서울특별시    119,201    166,115    179,400    190,254    318,343    421,241   \n",
       "부산광역시     43,070     64,323     64,857     64,349     95,252    105,607   \n",
       "\n",
       "          30~34세.1   35~39세.1   40~44세.1   45~49세.1  ...   55~59세.1  \\\n",
       "행정기관                                                 ...              \n",
       "전국       1,534,880  1,721,162  1,964,387  2,051,433  ...  2,017,643   \n",
       "서울특별시      367,650    353,709    368,849    379,561  ...    356,910   \n",
       "부산광역시       93,959    104,059    122,864    126,103  ...    139,278   \n",
       "\n",
       "          60~64세.1   65~69세.1   70~74세.1 75~79세.1 80~84세.1 85~89세.1 90~94세.1  \\\n",
       "행정기관                                                                           \n",
       "전국       2,090,148  1,556,821  1,120,948  910,410  740,555  435,029  166,143   \n",
       "서울특별시      379,402    298,723    214,261  164,912  115,226   62,378   24,864   \n",
       "부산광역시      160,805    128,912     94,495   68,536   51,437   26,798    9,927   \n",
       "\n",
       "        95~99세.1 100세 이상.1  \n",
       "행정기관                        \n",
       "전국        38,056     7,403  \n",
       "서울특별시      6,134     1,511  \n",
       "부산광역시      2,112       420  \n",
       "\n",
       "[3 rows x 21 columns]"
      ]
     },
     "execution_count": 4,
     "metadata": {},
     "output_type": "execute_result"
    }
   ],
   "source": [
    "df_w = pd.read_excel(file_name, skiprows = 3, index_col = '행정기관', usecols = 'B, AB:AV') # usecols 원하는 데이터 범위 설정\n",
    "df_w.head(3)"
   ]
  },
  {
   "cell_type": "code",
   "execution_count": 5,
   "metadata": {},
   "outputs": [
    {
     "data": {
      "text/plain": [
       "Index(['0~4세', '5~9세', '10~14세', '15~19세', '20~24세', '25~29세', '30~34세',\n",
       "       '35~39세', '40~44세', '45~49세', '50~54세', '55~59세', '60~64세', '65~69세',\n",
       "       '70~74세', '75~79세', '80~84세', '85~89세', '90~94세', '95~99세', '100세 이상'],\n",
       "      dtype='object')"
      ]
     },
     "execution_count": 5,
     "metadata": {},
     "output_type": "execute_result"
    }
   ],
   "source": [
    "df_m.columns"
   ]
  },
  {
   "cell_type": "code",
   "execution_count": 6,
   "metadata": {},
   "outputs": [
    {
     "data": {
      "text/plain": [
       "Index(['0~4세.1', '5~9세.1', '10~14세.1', '15~19세.1', '20~24세.1', '25~29세.1',\n",
       "       '30~34세.1', '35~39세.1', '40~44세.1', '45~49세.1', '50~54세.1', '55~59세.1',\n",
       "       '60~64세.1', '65~69세.1', '70~74세.1', '75~79세.1', '80~84세.1', '85~89세.1',\n",
       "       '90~94세.1', '95~99세.1', '100세 이상.1'],\n",
       "      dtype='object')"
      ]
     },
     "execution_count": 6,
     "metadata": {},
     "output_type": "execute_result"
    }
   ],
   "source": [
    "df_w.columns"
   ]
  },
  {
   "cell_type": "code",
   "execution_count": 7,
   "metadata": {},
   "outputs": [
    {
     "data": {
      "text/plain": [
       "Index(['0~4세', '5~9세', '10~14세', '15~19세', '20~24세', '25~29세', '30~34세',\n",
       "       '35~39세', '40~44세', '45~49세', '50~54세', '55~59세', '60~64세', '65~69세',\n",
       "       '70~74세', '75~79세', '80~84세', '85~89세', '90~94세', '95~99세', '100세 이상'],\n",
       "      dtype='object')"
      ]
     },
     "execution_count": 7,
     "metadata": {},
     "output_type": "execute_result"
    }
   ],
   "source": [
    "df_w.columns = df_m.columns # 컬럼명 통일\n",
    "df_w.columns"
   ]
  },
  {
   "cell_type": "code",
   "execution_count": 8,
   "metadata": {},
   "outputs": [],
   "source": [
    "df_w.iloc[0] = df_w.iloc[0].str.replace(',', '').astype(int)"
   ]
  },
  {
   "cell_type": "code",
   "execution_count": 9,
   "metadata": {},
   "outputs": [
    {
     "data": {
      "text/plain": [
       "0~4세        749184\n",
       "5~9세       1090823\n",
       "10~14세     1148107\n",
       "15~19세     1133309\n",
       "20~24세     1503271\n",
       "25~29세     1669446\n",
       "30~34세     1534880\n",
       "35~39세     1721162\n",
       "40~44세     1964387\n",
       "45~49세     2051433\n",
       "50~54세     2249100\n",
       "55~59세     2017643\n",
       "60~64세     2090148\n",
       "65~69세     1556821\n",
       "70~74세     1120948\n",
       "75~79세      910410\n",
       "80~84세      740555\n",
       "85~89세      435029\n",
       "90~94세      166143\n",
       "95~99세       38056\n",
       "100세 이상       7403\n",
       "Name: 전국  , dtype: object"
      ]
     },
     "execution_count": 9,
     "metadata": {},
     "output_type": "execute_result"
    }
   ],
   "source": [
    "df_w.iloc[0]"
   ]
  },
  {
   "cell_type": "markdown",
   "metadata": {},
   "source": [
    "## 데이터 시각화"
   ]
  },
  {
   "cell_type": "code",
   "execution_count": 10,
   "metadata": {},
   "outputs": [],
   "source": [
    "import matplotlib.pyplot as plt\n",
    "import matplotlib\n",
    "matplotlib.rcParams['font.family'] = 'Malgun Gothic'\n",
    "matplotlib.rcParams['font.size'] = 15\n",
    "matplotlib.rcParams['axes.unicode_minus'] = False"
   ]
  },
  {
   "cell_type": "code",
   "execution_count": 11,
   "metadata": {},
   "outputs": [
    {
     "data": {
      "image/png": "[encoded data removed]",
      "text/plain": [
       "<Figure size 720x504 with 1 Axes>"
      ]
     },
     "metadata": {
      "needs_background": "light"
     },
     "output_type": "display_data"
    }
   ],
   "source": [
    "plt.figure(figsize = (10, 7))\n",
    "plt.barh(df_m.columns, -df_m.iloc[0] // 1000) # 단위 : 천 명\n",
    "plt.barh(df_w.columns, df_w.iloc[0] // 1000, ) # 단위 : 천 명\n",
    "plt.title('2021 대한민국 인구 피라미드')\n",
    "plt.savefig('2021_인구피라미드.png', dpi = 100)\n",
    "plt.show()"
   ]
  },
  {
   "cell_type": "code",
   "execution_count": null,
   "metadata": {},
   "outputs": [],
   "source": []
  }
 ],
 "metadata": {
  "kernelspec": {
   "display_name": "Python 3",
   "language": "python",
   "name": "python3"
  },
  "language_info": {
   "codemirror_mode": {
    "name": "ipython",
    "version": 3
   },
   "file_extension": ".py",
   "mimetype": "text/x-python",
   "name": "python",
   "nbconvert_exporter": "python",
   "pygments_lexer": "ipython3",
   "version": "3.8.5"
  }
 },
 "nbformat": 4,
 "nbformat_minor": 4
}
